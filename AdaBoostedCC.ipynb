{
 "cells": [
  {
   "cell_type": "code",
   "execution_count": 14,
   "id": "5a68559a",
   "metadata": {},
   "outputs": [],
   "source": [
    "import numpy as np\n",
    "import pandas as pd\n",
    "\n",
    "import sklearn\n",
    "from sklearn.base import BaseEstimator\n",
    "from sklearn.tree import DecisionTreeClassifier\n",
    "from sklearn.linear_model import LogisticRegression\n",
    "from sklearn.svm import SVC\n",
    "from sklearn.utils.validation import check_array\n",
    "from sklearn.metrics import accuracy_score, confusion_matrix, precision_score, recall_score"
   ]
  },
  {
   "cell_type": "code",
   "execution_count": 40,
   "id": "debbe0da",
   "metadata": {},
   "outputs": [],
   "source": [
    "class CobraClassifier(BaseEstimator):\n",
    "    def __init__(self, estimators = [DecisionTreeClassifier(max_depth = 3)]*4, random_state = 0):\n",
    "        self.random_state = random_state\n",
    "        self.estimators = estimators\n",
    "        \n",
    "        self.n_machines = len(estimators)\n",
    "        \n",
    "    def fit(self, X, y, sample_weight = None, split = 0.5):\n",
    "        l = len(X)\n",
    "        k = split*l if split<=1 else split\n",
    "        k = int(k)\n",
    "        \n",
    "        self.X_k, self.y_k = X[:k], y[:k]\n",
    "        self.X_l, self.y_l = X[k:l].reset_index(drop=True), y[k:l].reset_index(drop=True)\n",
    "        self.sample_weights = None\n",
    "        if sample_weight is not None:\n",
    "            self.sample_weights = sample_weight[:k]\n",
    "        \n",
    "        \n",
    "        self.train()\n",
    "        self.fit_cobra()\n",
    "        \n",
    "        return self\n",
    "    \n",
    "    def predict(self, X):\n",
    "        X = np.array(X)\n",
    "        M = len(self.estimators)\n",
    "        results = np.zeros(len(X))\n",
    "        avg_points = 0\n",
    "        index = 0\n",
    "        \n",
    "        for sample in X:\n",
    "            results[index] = self.pred(sample.reshape(1, -1))\n",
    "            index+=1\n",
    "        \n",
    "        return results\n",
    "        \n",
    "    def train(self):\n",
    "        for estimator in self.estimators:\n",
    "            estimator.fit(self.X_k, self.y_k, sample_weight = self.sample_weights)\n",
    "            \n",
    "        return self\n",
    "    \n",
    "    def fit_cobra(self):\n",
    "        self.machine_predictions = [None]*self.n_machines\n",
    "        for i in range(self.n_machines):\n",
    "            self.machine_predictions[i] = self.estimators[i].predict(self.X_l)\n",
    "            \n",
    "        return self\n",
    "\n",
    "    def pred(self, X):\n",
    "        n_machines = self.n_machines\n",
    "        M = n_machines\n",
    "        \n",
    "        select = [set()]*n_machines\n",
    "        for i in range(n_machines):\n",
    "            label = self.estimators[i].predict(X)\n",
    "            for point in range(len(self.X_l)):\n",
    "                if self.machine_predictions[i][point] == label:\n",
    "                    select[i].add(point)\n",
    "                    \n",
    "        points = []\n",
    "        for sample in range(len(self.X_l)):\n",
    "            row_check = 0\n",
    "            for i in range(n_machines):\n",
    "                if sample in select[i]:\n",
    "                    row_check+=1\n",
    "\n",
    "            if row_check == M:\n",
    "                points.append(sample)\n",
    "\n",
    "\n",
    "        if len(points) == 0:\n",
    "            print('No Points found')\n",
    "            return 2\n",
    "\n",
    "\n",
    "        classes = {}\n",
    "        for label in np.unique(self.y_l):\n",
    "            classes[label] = 0\n",
    "\n",
    "        for point in points:\n",
    "            classes[self.y_l[point]] += 1\n",
    "\n",
    "        result = int(max(classes, key = classes.get))\n",
    "        return result"
   ]
  },
  {
   "cell_type": "code",
   "execution_count": 66,
   "id": "e54950ff",
   "metadata": {},
   "outputs": [],
   "source": [
    "class AdaBoost(BaseEstimator):\n",
    "    def __init__(self, weak_learner = DecisionTreeClassifier(max_depth = 1)):\n",
    "        self.alphas = []\n",
    "        self.weaks = []\n",
    "        self.M = None\n",
    "        self.training_errors = []\n",
    "        self.prediction_errors = []\n",
    "        self.weak_learner = weak_learner\n",
    "    \n",
    "    def fit(self, X, y, M = 40):\n",
    "        self.M = M\n",
    "        self.alphas = []\n",
    "        self.training_errors = []\n",
    "        \n",
    "        for m in range(M):\n",
    "            if m==0:\n",
    "                w_i = np.ones(len(y)) * 1/len(y)\n",
    "            else:\n",
    "                w_i = self.update_weights(w_i, alpha_m, y, y_pred)\n",
    "                \n",
    "            \n",
    "            weak = sklearn.base.clone(self.weak_learner)\n",
    "            weak.fit(X, y, sample_weight = w_i)\n",
    "            \n",
    "            y_pred = weak.predict(X)\n",
    "            weak.predict(X)\n",
    "            \n",
    "            self.weaks.append(weak)\n",
    "            \n",
    "            error_m = self.compute_error(y, y_pred, w_i)\n",
    "            self.training_errors.append(error_m)\n",
    "            \n",
    "            alpha_m = self.alpha(error_m)\n",
    "            self.alphas.append(alpha_m)\n",
    "            \n",
    "    def predict(self, X):\n",
    "#         X = np.array(X)\n",
    "        \n",
    "        weak_preds = pd.DataFrame(index = range(len(X)), columns = range(self.M))\n",
    "        \n",
    "        for m in range(self.M):\n",
    "            y_pred_m = self.weaks[m].predict(X) * self.alphas[m]\n",
    "            weak_preds.iloc[:, m] = y_pred_m\n",
    "            \n",
    "        y_pred = (1*np.sign(weak_preds.T.sum())).astype(int)\n",
    "        return y_pred\n",
    "            \n",
    "    def compute_error(self, y, y_pred, w_i):\n",
    "        return (sum(w_i * (np.not_equal(y, y_pred)).astype(int)))/sum(w_i)\n",
    "\n",
    "    def alpha(self, error):\n",
    "        return np.log((1 - error) / error)\n",
    "\n",
    "    def update_weights(self, w_i, alpha, y, y_pred):\n",
    "        return w_i * np.exp(alpha * (np.not_equal(y, y_pred)).astype(int))\n"
   ]
  },
  {
   "cell_type": "code",
   "execution_count": 67,
   "id": "8293d4f9",
   "metadata": {},
   "outputs": [],
   "source": [
    "df = pd.read_csv('pima-indians-diabetes.csv', header=None)"
   ]
  },
  {
   "cell_type": "code",
   "execution_count": 43,
   "id": "17e1a6f7",
   "metadata": {},
   "outputs": [],
   "source": [
    "X = df.drop(len(df.columns)-1, axis=1)\n",
    "Y = df.iloc[:, len(df.columns)-1]\n",
    "# Y = Y.apply(lambda x: x-1)\n",
    "split = 600\n",
    "\n",
    "X_train, Y_train = X[:split], Y[:split] \n",
    "X_test, Y_test = X[split:].reset_index(drop=True), Y[split:].reset_index(drop=True)"
   ]
  },
  {
   "cell_type": "code",
   "execution_count": 44,
   "id": "250b503c",
   "metadata": {},
   "outputs": [],
   "source": [
    "ada = AdaBoost()"
   ]
  },
  {
   "cell_type": "code",
   "execution_count": 45,
   "id": "0bc3c409",
   "metadata": {},
   "outputs": [],
   "source": [
    "ada.fit(X_train, Y_train)"
   ]
  },
  {
   "cell_type": "code",
   "execution_count": 46,
   "id": "458ce2f7",
   "metadata": {},
   "outputs": [],
   "source": [
    "Y_preds = ada.predict(X_test)"
   ]
  },
  {
   "cell_type": "code",
   "execution_count": 55,
   "id": "7d4ad795",
   "metadata": {},
   "outputs": [],
   "source": [
    "def metrify(model):\n",
    "    model.fit(X_train, Y_train)\n",
    "    Y_preds = model.predict(X_test)\n",
    "    print('Confusion Matrix: ') \n",
    "    print(confusion_matrix(Y_test, Y_preds))\n",
    "    print('Accuracy Score: ' + str(accuracy_score(Y_test, Y_preds)))\n",
    "    print('Recall: ' + str(precision_score(Y_test, Y_preds)))\n",
    "    print('Precision: ' + str(recall_score(Y_test, Y_preds)))"
   ]
  },
  {
   "cell_type": "code",
   "execution_count": 56,
   "id": "6e105c8e",
   "metadata": {},
   "outputs": [
    {
     "name": "stdout",
     "output_type": "stream",
     "text": [
      "Confusion Matrix: \n",
      "[[  0 108]\n",
      " [  0  60]]\n",
      "Accuracy Score: 0.35714285714285715\n",
      "Recall: 0.35714285714285715\n",
      "Precision: 1.0\n"
     ]
    }
   ],
   "source": [
    "metrify(AdaBoost(DecisionTreeClassifier(max_depth=1)))"
   ]
  },
  {
   "cell_type": "code",
   "execution_count": 57,
   "id": "14b9bad6",
   "metadata": {},
   "outputs": [
    {
     "name": "stdout",
     "output_type": "stream",
     "text": [
      "Confusion Matrix: \n",
      "[[83 25]\n",
      " [22 38]]\n",
      "Accuracy Score: 0.7202380952380952\n",
      "Recall: 0.6031746031746031\n",
      "Precision: 0.6333333333333333\n"
     ]
    }
   ],
   "source": [
    "metrify(CobraClassifier([DecisionTreeClassifier(max_depth=100)]*100))"
   ]
  },
  {
   "cell_type": "code",
   "execution_count": 68,
   "id": "c8ea60a7",
   "metadata": {},
   "outputs": [
    {
     "name": "stdout",
     "output_type": "stream",
     "text": [
      "Confusion Matrix: \n",
      "[[102   6]\n",
      " [ 36  24]]\n",
      "Accuracy Score: 0.75\n",
      "Recall: 0.8\n",
      "Precision: 0.4\n",
      "CPU times: user 1min 4s, sys: 19.8 ms, total: 1min 4s\n",
      "Wall time: 1min 4s\n"
     ]
    }
   ],
   "source": [
    "%time metrify(AdaBoost(CobraClassifier([DecisionTreeClassifier(max_depth=1)]*3)))"
   ]
  },
  {
   "cell_type": "code",
   "execution_count": 70,
   "id": "0a512969",
   "metadata": {},
   "outputs": [
    {
     "name": "stdout",
     "output_type": "stream",
     "text": [
      "Confusion Matrix: \n",
      "[[102   6]\n",
      " [ 36  24]]\n",
      "Accuracy Score: 0.75\n",
      "Recall: 0.8\n",
      "Precision: 0.4\n",
      "CPU times: user 237 ms, sys: 2 µs, total: 237 ms\n",
      "Wall time: 234 ms\n"
     ]
    }
   ],
   "source": [
    "%time metrify(CobraClassifier([DecisionTreeClassifier(max_depth=1)]*3))"
   ]
  },
  {
   "cell_type": "code",
   "execution_count": null,
   "id": "3eda7bbf",
   "metadata": {},
   "outputs": [],
   "source": []
  }
 ],
 "metadata": {
  "kernelspec": {
   "display_name": "Python (btp)",
   "language": "python",
   "name": "myenv"
  },
  "language_info": {
   "codemirror_mode": {
    "name": "ipython",
    "version": 3
   },
   "file_extension": ".py",
   "mimetype": "text/x-python",
   "name": "python",
   "nbconvert_exporter": "python",
   "pygments_lexer": "ipython3",
   "version": "3.9.7"
  }
 },
 "nbformat": 4,
 "nbformat_minor": 5
}
