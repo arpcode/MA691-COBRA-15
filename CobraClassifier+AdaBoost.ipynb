{
 "cells": [
  {
   "cell_type": "code",
   "execution_count": 190,
   "id": "5a68559a",
   "metadata": {},
   "outputs": [],
   "source": [
    "import numpy as np\n",
    "import pandas as pd\n",
    "\n",
    "import sklearn\n",
    "from sklearn.base import BaseEstimator\n",
    "from sklearn.tree import DecisionTreeClassifier\n",
    "from sklearn.linear_model import LogisticRegression\n",
    "from sklearn.svm import SVC\n",
    "from sklearn.utils.validation import check_array\n",
    "from sklearn.metrics import accuracy_score, confusion_matrix"
   ]
  },
  {
   "cell_type": "code",
   "execution_count": 267,
   "id": "debbe0da",
   "metadata": {},
   "outputs": [],
   "source": [
    "class CobraClassifier(BaseEstimator):\n",
    "    def __init__(self, estimators = [DecisionTreeClassifier(max_depth = 3)]*4, random_state = 0):\n",
    "        self.random_state = random_state\n",
    "        self.estimators = estimators\n",
    "        \n",
    "        self.n_machines = len(estimators)\n",
    "        \n",
    "    def fit(self, X, y, sample_weights = None, split = 0.5):\n",
    "        l = len(X)\n",
    "        k = split*l if split<=1 else split\n",
    "        k = int(k)\n",
    "        \n",
    "        self.X_k, self.y_k = X[:k], y[:k]\n",
    "        self.X_l, self.y_l = X[k:l].reset_index(drop=True), y[k:l].reset_index(drop=True)\n",
    "        self.sample_weights = sample_weights\n",
    "        \n",
    "        self.train()\n",
    "        self.fit_cobra()\n",
    "        \n",
    "        return self\n",
    "    \n",
    "    def predict(self, X):\n",
    "        X = np.array(X)\n",
    "        M = len(self.estimators)\n",
    "        results = np.zeros(len(X))\n",
    "        avg_points = 0\n",
    "        index = 0\n",
    "        \n",
    "        for sample in X:\n",
    "            results[index] = self.pred(sample.reshape(1, -1))\n",
    "            index+=1\n",
    "        \n",
    "        return results\n",
    "        \n",
    "    def train(self):\n",
    "        for estimator in self.estimators:\n",
    "            estimator.fit(self.X_k, self.y_k, sample_weight = self.sample_weights)\n",
    "            \n",
    "        return self\n",
    "    \n",
    "    def fit_cobra(self):\n",
    "        self.machine_predictions = [None]*self.n_machines\n",
    "        for i in range(self.n_machines):\n",
    "            self.machine_predictions[i] = self.estimators[i].predict(self.X_l)\n",
    "            \n",
    "        return self\n",
    "\n",
    "    def pred(self, X):\n",
    "        n_machines = self.n_machines\n",
    "        M = n_machines\n",
    "        \n",
    "        select = [set()]*n_machines\n",
    "        for i in range(n_machines):\n",
    "            label = self.estimators[i].predict(X)\n",
    "            for point in range(len(self.X_l)):\n",
    "                if self.machine_predictions[i][point] == label:\n",
    "                    select[i].add(point)\n",
    "                    \n",
    "        points = []\n",
    "        for sample in range(len(self.X_l)):\n",
    "            row_check = 0\n",
    "            for i in range(n_machines):\n",
    "                if sample in select[i]:\n",
    "                    row_check+=1\n",
    "\n",
    "            if row_check == M:\n",
    "                points.append(sample)\n",
    "\n",
    "\n",
    "        if len(points) == 0:\n",
    "            print('No Points found')\n",
    "            return 2\n",
    "\n",
    "\n",
    "        classes = {}\n",
    "        for label in np.unique(self.y_l):\n",
    "            classes[label] = 0\n",
    "\n",
    "        for point in points:\n",
    "            classes[self.y_l[point]] += 1\n",
    "\n",
    "        result = int(max(classes, key = classes.get))\n",
    "        return result"
   ]
  },
  {
   "cell_type": "code",
   "execution_count": 142,
   "id": "8d07ded4",
   "metadata": {},
   "outputs": [],
   "source": [
    "class AdaBoost:\n",
    "    def __init__(self, weak_learner = DecisionTreeClassifier(max_depth = 3)):\n",
    "        self.alphas = []\n",
    "        self.weaks = []\n",
    "        self.M = None\n",
    "        self.training_errors = []\n",
    "        self.prediction_errors = []\n",
    "        self.weak_learner = weak_learner\n",
    "    \n",
    "    def fit(self, X, y, M = 100):\n",
    "        self.alphas = []\n",
    "        self.training_errors = []\n",
    "        \n",
    "        for m in range(M):\n",
    "            if m==0:\n",
    "                w_i = np.ones(len(y)) * 1/len(y)\n",
    "            else:\n",
    "                w_i = self.update_weights(w_i, alpha_m, y, y_pred)\n",
    "                \n",
    "            \n",
    "            weak = sklearn.base.clone(self.weak_learner)\n",
    "            weak.fit(X, y, sample_weight = w_i)\n",
    "            \n",
    "            y_pred = weak.predict(X)\n",
    "            self.weak.predict(X)\n",
    "            \n",
    "            self.weaks.append(weak)\n",
    "            \n",
    "            error_m = self.compute_error(y, y_pred, w_i)\n",
    "            self.training_errors.append(error_m)\n",
    "            \n",
    "            alpha_m = self.alpha(error_m)\n",
    "            self.alphas.append(alpha_m)\n",
    "            \n",
    "    def predict(self, X):\n",
    "#         X = np.array(X)\n",
    "        weak_preds = pd.DataFrame(index = len(X), columns = range(self.M))\n",
    "        \n",
    "        for m in range(self.M):\n",
    "            y_pred_m = self.weaks[m].predict(X) * self.alphas[m]\n",
    "            weak_preds.iloc[:, m] = y_pred_m\n",
    "            \n",
    "        y_pred = (1*np.sign(weak_preds.T.sum())).astype(int)\n",
    "        return y_pred\n",
    "            \n",
    "    def compute_error(self, y, y_pred, w_i):\n",
    "        return (sum(w_i * (np.not_equal(y, y_pred)).astype(int)))/sum(w_i)\n",
    "\n",
    "    def alpha(self, error):\n",
    "        return np.log((1 - error) / error)\n",
    "\n",
    "    def update_weights(self, w_i, alpha, y, y_pred):\n",
    "        return w_i * np.exp(alpha * (np.not_equal(y, y_pred)).astype(int))\n"
   ]
  },
  {
   "cell_type": "code",
   "execution_count": 268,
   "id": "07eb24bf",
   "metadata": {},
   "outputs": [],
   "source": [
    "df = pd.read_csv('haberman.csv', header=None)"
   ]
  },
  {
   "cell_type": "code",
   "execution_count": 269,
   "id": "d41f15c6",
   "metadata": {},
   "outputs": [],
   "source": [
    "X = df.drop(3, axis=1)\n",
    "Y = df.iloc[:, 3]\n",
    "Y = Y.apply(lambda x: x-1)\n",
    "\n",
    "X_train, Y_train = X[:235], Y[:235] \n",
    "X_test, Y_test = X[235:].reset_index(drop=True), Y[235:].reset_index(drop=True)"
   ]
  },
  {
   "cell_type": "code",
   "execution_count": 271,
   "id": "a310e4ff",
   "metadata": {},
   "outputs": [],
   "source": [
    "cc = CobraClassifier()"
   ]
  },
  {
   "cell_type": "code",
   "execution_count": 272,
   "id": "d0b84c4a",
   "metadata": {},
   "outputs": [
    {
     "data": {
      "text/plain": [
       "CobraClassifier()"
      ]
     },
     "execution_count": 272,
     "metadata": {},
     "output_type": "execute_result"
    }
   ],
   "source": [
    "cc.fit(X_train, Y_train)"
   ]
  },
  {
   "cell_type": "code",
   "execution_count": 273,
   "id": "5abe299f",
   "metadata": {
    "scrolled": false
   },
   "outputs": [],
   "source": [
    "Y_preds = cc.predict(X_test)"
   ]
  },
  {
   "cell_type": "code",
   "execution_count": 274,
   "id": "9604b014",
   "metadata": {},
   "outputs": [
    {
     "data": {
      "text/plain": [
       "0.7323943661971831"
      ]
     },
     "execution_count": 274,
     "metadata": {},
     "output_type": "execute_result"
    }
   ],
   "source": [
    "accuracy_score(Y_preds, Y_test)"
   ]
  },
  {
   "cell_type": "code",
   "execution_count": 315,
   "id": "d84384b4",
   "metadata": {},
   "outputs": [],
   "source": [
    "dct1 = DecisionTreeClassifier(max_depth=110)\n",
    "dct2 = DecisionTreeClassifier(max_depth=20)\n",
    "dct3 = DecisionTreeClassifier(max_depth=20)\n",
    "\n",
    "cc = CobraClassifier(estimators = [dct1, dct2, dct3])"
   ]
  },
  {
   "cell_type": "code",
   "execution_count": 316,
   "id": "90ad49b8",
   "metadata": {},
   "outputs": [
    {
     "data": {
      "text/plain": [
       "0.7323943661971831"
      ]
     },
     "execution_count": 316,
     "metadata": {},
     "output_type": "execute_result"
    }
   ],
   "source": [
    "cc.fit(X_train, Y_train)\n",
    "Y_preds = cc.predict(X_test)\n",
    "accuracy_score(Y_preds, Y_test)"
   ]
  },
  {
   "cell_type": "code",
   "execution_count": 305,
   "id": "3c390dce",
   "metadata": {},
   "outputs": [],
   "source": [
    "def simulate(model):\n",
    "    model.fit(X_train[:117], Y_train[:117])\n",
    "    Y_preds = model.predict(X_test)\n",
    "    print('Confusion Matrix: ') \n",
    "    print(confusion_matrix(Y_preds, Y_test))\n",
    "    print('Accuracy Score: ' + str(accuracy_score(Y_preds, Y_test)))"
   ]
  },
  {
   "cell_type": "code",
   "execution_count": 310,
   "id": "01fd425b",
   "metadata": {},
   "outputs": [
    {
     "name": "stdout",
     "output_type": "stream",
     "text": [
      "Confusion Matrix: \n",
      "[[10  8]\n",
      " [42 11]]\n",
      "Accuracy Score: 0.29577464788732394\n"
     ]
    }
   ],
   "source": [
    "simulate(DecisionTreeClassifier(max_depth=10))"
   ]
  },
  {
   "cell_type": "code",
   "execution_count": null,
   "id": "cee3f089",
   "metadata": {},
   "outputs": [],
   "source": []
  }
 ],
 "metadata": {
  "kernelspec": {
   "display_name": "Python (btp)",
   "language": "python",
   "name": "myenv"
  },
  "language_info": {
   "codemirror_mode": {
    "name": "ipython",
    "version": 3
   },
   "file_extension": ".py",
   "mimetype": "text/x-python",
   "name": "python",
   "nbconvert_exporter": "python",
   "pygments_lexer": "ipython3",
   "version": "3.9.7"
  }
 },
 "nbformat": 4,
 "nbformat_minor": 5
}
